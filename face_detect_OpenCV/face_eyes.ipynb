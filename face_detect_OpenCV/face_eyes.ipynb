{
 "cells": [
  {
   "cell_type": "code",
   "execution_count": 6,
   "metadata": {},
   "outputs": [],
   "source": [
    "import cv2\n",
    "import numpy as np \n"
   ]
  },
  {
   "cell_type": "code",
   "execution_count": 7,
   "metadata": {},
   "outputs": [],
   "source": [
    "cap = cv2.VideoCapture(0)\n",
    "\n",
    "face_cascade = cv2.CascadeClassifier(r\"/home/najmeh/opencv/haarcascade_frontalface_default.xml\")\n",
    "\n",
    "eyes_cascade = cv2.CascadeClassifier(r\"/home/najmeh/opencv/haarcascade_eye_tree_eyeglasses.xml\")\n",
    "\n"
   ]
  },
  {
   "cell_type": "code",
   "execution_count": 8,
   "metadata": {},
   "outputs": [],
   "source": [
    "while True:\n",
    "    _, img = cap.read()\n",
    "    \n",
    "    gray = cv2.cvtColor(img, cv2.COLOR_BGR2GRAY)\n",
    "    \n",
    "    # To detect the face \n",
    "    faces = face_cascade.detectMultiScale(gray,2.3, 4)\n",
    "    \n",
    "    for (x,y,w,h) in faces: \n",
    "        cv2.rectangle(img,(x,y), (x+w,y+h),(0,0,255))   # color of the bounding box RGB\n",
    "        cv2.putText(img, 'Face',(x,y),cv2.FONT_HERSHEY_COMPLEX,0.5,(250,250,250),2 )\n",
    "        \n",
    "    # To detect the eyes   \n",
    "                    \n",
    "    eyes = eyes_cascade.detectMultiScale(gray,2.3, 4)\n",
    "    \n",
    "    for (x1,y1,w1,h1) in eyes: \n",
    "        cv2.rectangle(img,(x1,y1), (x1+w1,y1+h1),(255,0,0))   #color of the bounding box RGB\n",
    "        cv2.putText(img, 'Eyes',(x1,y1),cv2.FONT_HERSHEY_COMPLEX,0.5,(250,250,250),1 )\n",
    "        \n",
    "        \n",
    "#--------------------------------------------------------------------------    \n",
    "    cv2.imshow('image window',img)\n",
    "    # press the \"q\" key on keyboard to close the window\n",
    "    if cv2.waitKey(1) == ord('q'):\n",
    "        break\n",
    "        \n",
    "cap.release()\n",
    "cv2.destroyAllWindows()"
   ]
  },
  {
   "cell_type": "code",
   "execution_count": 4,
   "metadata": {},
   "outputs": [
    {
     "name": "stdout",
     "output_type": "stream",
     "text": [
      "Help on built-in function detectMultiScale:\n",
      "\n",
      "detectMultiScale(...) method of cv2.CascadeClassifier instance\n",
      "    detectMultiScale(image[, scaleFactor[, minNeighbors[, flags[, minSize[, maxSize]]]]]) -> objects\n",
      "    .   @brief Detects objects of different sizes in the input image. The detected objects are returned as a list\n",
      "    .       of rectangles.\n",
      "    .   \n",
      "    .       @param image Matrix of the type CV_8U containing an image where objects are detected.\n",
      "    .       @param objects Vector of rectangles where each rectangle contains the detected object, the\n",
      "    .       rectangles may be partially outside the original image.\n",
      "    .       @param scaleFactor Parameter specifying how much the image size is reduced at each image scale.\n",
      "    .       @param minNeighbors Parameter specifying how many neighbors each candidate rectangle should have\n",
      "    .       to retain it.\n",
      "    .       @param flags Parameter with the same meaning for an old cascade as in the function\n",
      "    .       cvHaarDetectObjects. It is not used for a new cascade.\n",
      "    .       @param minSize Minimum possible object size. Objects smaller than that are ignored.\n",
      "    .       @param maxSize Maximum possible object size. Objects larger than that are ignored. If `maxSize == minSize` model is evaluated on single scale.\n",
      "    .   \n",
      "    .       The function is parallelized with the TBB library.\n",
      "    .   \n",
      "    .       @note\n",
      "    .          -   (Python) A face detection example using cascade classifiers can be found at\n",
      "    .               opencv_source_code/samples/python/facedetect.py\n",
      "\n"
     ]
    }
   ],
   "source": [
    "help(face_cascade.detectMultiScale)"
   ]
  }
 ],
 "metadata": {
  "kernelspec": {
   "display_name": "Python 3",
   "language": "python",
   "name": "python3"
  },
  "language_info": {
   "codemirror_mode": {
    "name": "ipython",
    "version": 3
   },
   "file_extension": ".py",
   "mimetype": "text/x-python",
   "name": "python",
   "nbconvert_exporter": "python",
   "pygments_lexer": "ipython3",
   "version": "3.8.3"
  }
 },
 "nbformat": 4,
 "nbformat_minor": 4
}
